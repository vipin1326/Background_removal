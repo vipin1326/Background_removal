{
 "cells": [
  {
   "cell_type": "code",
   "execution_count": 9,
   "metadata": {},
   "outputs": [],
   "source": [
    "import cv2\n",
    "import numpy as np\n",
    "import sys"
   ]
  },
  {
   "cell_type": "code",
   "execution_count": 10,
   "metadata": {},
   "outputs": [],
   "source": [
    "def resize(dst,img):\n",
    "    wid = img.shape[1]\n",
    "    heig = img.shape[0]\n",
    "    dim = (wid, heig)\n",
    "    resized = cv2.resize(dst, dim, interpolation = cv2.INTER_AREA)\n",
    "    return resized"
   ]
  },
  {
   "cell_type": "code",
   "execution_count": 33,
   "metadata": {},
   "outputs": [],
   "source": [
    "video = cv2.VideoCapture(0)\n",
    "success, ref_img = video.read()\n",
    "background=cv2.imread('messi.jpg')\n",
    "flag = 0"
   ]
  },
  {
   "cell_type": "code",
   "execution_count": null,
   "metadata": {},
   "outputs": [],
   "source": [
    "while(1):\n",
    "        success, img = video.read()\n",
    "        bg = resize(background,ref_img)\n",
    "        if flag==0:\n",
    "                ref_img = img\n",
    "        # create a mask\n",
    "        diff1=cv2.subtract(img,ref_img)\n",
    "        diff2=cv2.subtract(ref_img,img)\n",
    "        diff = diff1+diff2\n",
    "        diff[abs(diff)<35.0]=0\n",
    "        gray = cv2.cvtColor(diff.astype(np.uint8), cv2.COLOR_BGR2GRAY)\n",
    "        gray = cv2.GaussianBlur(gray,(3,3),5)\n",
    "\n",
    "        gray[np.abs(gray) <15] = 0\n",
    "        fgmask = gray.astype(np.uint8)\n",
    "        fgmask[fgmask>0]=255\n",
    "        \n",
    "        fgmask_inv = cv2.bitwise_not(fgmask)\n",
    "        \n",
    "        fgimg = cv2.bitwise_and(img,img,mask = fgmask)\n",
    "        bgimg = cv2.bitwise_and(bg,bg,mask = fgmask_inv)\n",
    "\n",
    "        dst = cv2.add(bgimg,fgimg)\n",
    "        cv2.imshow('Org',img)\n",
    "        cv2.imshow('Background removed',dst)\n",
    "        key = cv2.waitKey(5) & 0xFF\n",
    "        if ord('q') == key:\n",
    "                break\n",
    "        elif ord('d') == key:\n",
    "                flag = 1\n",
    "cv2.destroyAllWindows()\n",
    "video.release()"
   ]
  },
  {
   "cell_type": "code",
   "execution_count": null,
   "metadata": {},
   "outputs": [],
   "source": []
  },
  {
   "cell_type": "code",
   "execution_count": null,
   "metadata": {},
   "outputs": [],
   "source": []
  },
  {
   "cell_type": "code",
   "execution_count": null,
   "metadata": {},
   "outputs": [],
   "source": []
  }
 ],
 "metadata": {
  "kernelspec": {
   "display_name": "Python 3",
   "language": "python",
   "name": "python3"
  },
  "language_info": {
   "codemirror_mode": {
    "name": "ipython",
    "version": 3
   },
   "file_extension": ".py",
   "mimetype": "text/x-python",
   "name": "python",
   "nbconvert_exporter": "python",
   "pygments_lexer": "ipython3",
   "version": "3.7.6"
  }
 },
 "nbformat": 4,
 "nbformat_minor": 4
}
